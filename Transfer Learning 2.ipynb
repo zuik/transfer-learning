{
 "cells": [
  {
   "cell_type": "code",
   "execution_count": 1,
   "metadata": {
    "collapsed": true
   },
   "outputs": [],
   "source": [
    "import torch\n",
    "import torch.nn as nn\n",
    "import torch.optim as optim\n",
    "from torch.autograd import Variable\n",
    "import numpy as np\n",
    "import torchvision\n",
    "from torchvision import datasets, models, transforms\n",
    "import matplotlib.pyplot as plt\n",
    "import time\n",
    "import copy\n",
    "import os"
   ]
  },
  {
   "cell_type": "code",
   "execution_count": 2,
   "metadata": {
    "collapsed": true
   },
   "outputs": [],
   "source": [
    "import logging\n",
    "l = logging.getLogger(__name__)"
   ]
  },
  {
   "cell_type": "code",
   "execution_count": 3,
   "metadata": {
    "collapsed": true
   },
   "outputs": [],
   "source": [
    "logging.basicConfig(format='[%(asctime)s][%(levelname)s]: %(message)s',\n",
    "                        level=logging.INFO)"
   ]
  },
  {
   "cell_type": "code",
   "execution_count": 4,
   "metadata": {
    "collapsed": true
   },
   "outputs": [],
   "source": [
    "# Preprocessing according to the pre-trained model\n",
    "preprocess = transforms.Compose([\n",
    "        transforms.Scale(256),\n",
    "        transforms.CenterCrop(224),\n",
    "        transforms.ToTensor(),\n",
    "        transforms.Normalize(\n",
    "           mean=[0.485, 0.456, 0.406],\n",
    "           std=[0.229, 0.224, 0.225]\n",
    "        ),\n",
    "    ])"
   ]
  },
  {
   "cell_type": "code",
   "execution_count": 5,
   "metadata": {
    "collapsed": true
   },
   "outputs": [],
   "source": [
    "ds_train = datasets.ImageFolder(\"./transfer_learning/training\", preprocess)"
   ]
  },
  {
   "cell_type": "code",
   "execution_count": 6,
   "metadata": {
    "collapsed": true
   },
   "outputs": [],
   "source": [
    "ds_train_ldr = torch.utils.data.DataLoader(ds_train, batch_size=1, shuffle=True)"
   ]
  },
  {
   "cell_type": "code",
   "execution_count": 7,
   "metadata": {
    "collapsed": true
   },
   "outputs": [],
   "source": [
    "ds_test = datasets.ImageFolder(\"./transfer_learning/testing\", preprocess)"
   ]
  },
  {
   "cell_type": "code",
   "execution_count": 8,
   "metadata": {
    "collapsed": true
   },
   "outputs": [],
   "source": [
    "ds_test_ldr = torch.utils.data.DataLoader(ds_test, batch_size=1, shuffle=True)"
   ]
  },
  {
   "cell_type": "code",
   "execution_count": 21,
   "metadata": {},
   "outputs": [
    {
     "data": {
      "text/plain": [
       "[('./transfer_learning/testing/coconut/coconut1.jpg', 0),\n",
       " ('./transfer_learning/testing/coconut/coconut2.jpg', 0),\n",
       " ('./transfer_learning/testing/coconut/coconut3.jpg', 0),\n",
       " ('./transfer_learning/testing/durian/durian1.png', 1),\n",
       " ('./transfer_learning/testing/durian/durian2.jpg', 1),\n",
       " ('./transfer_learning/testing/durian/durian3.jpg', 1),\n",
       " ('./transfer_learning/testing/lychee/lychee1.jpg', 2),\n",
       " ('./transfer_learning/testing/lychee/lychee2.jpg', 2),\n",
       " ('./transfer_learning/testing/lychee/lychee3.jpg', 2)]"
      ]
     },
     "execution_count": 21,
     "metadata": {},
     "output_type": "execute_result"
    }
   ],
   "source": [
    "ds_test.imgs"
   ]
  },
  {
   "cell_type": "code",
   "execution_count": 9,
   "metadata": {
    "collapsed": true
   },
   "outputs": [],
   "source": [
    "def train(model, loss_function, optimizer, num_epochs=10):\n",
    "    \"\"\"\n",
    "    Begin training the last layer\n",
    "    :param model: Model to train\n",
    "    :param loss_function: Use to assess the model\n",
    "    :praram optimizer:\n",
    "    :param num_epochs: Number of epochs to train on.\n",
    "    :return: best model\n",
    "    \"\"\"\n",
    "    \n",
    "    \n",
    "    best_model = model\n",
    "    best_acc = 0\n",
    "    \n",
    "    for e in range(num_epochs):\n",
    "        l.info(\"EPOCH: %d/%d\", e, num_epochs-1)\n",
    "        \n",
    "        for is_training in [True, False]:\n",
    "            model.train(is_training)\n",
    "            \n",
    "            if is_training:\n",
    "                # Train the model\n",
    "                for data, target in ds_train_ldr:\n",
    "                    x, y = Variable(data), Variable(target)\n",
    "                    \n",
    "                    optimizer.zero_grad()\n",
    "                    \n",
    "                    r = model(x)\n",
    "                    _, preds = torch.max(r.data, 1)\n",
    "#                     l.info(\"Predictions: %s\", str(preds))\n",
    "                    \n",
    "                    loss = loss_function(r, y)\n",
    "#                     l.info(\"Loss: %s\", str(loss))\n",
    "                    \n",
    "                    loss.backward()\n",
    "                    optimizer.step()\n",
    "\n",
    "            else:\n",
    "                v_loss = 0\n",
    "                v_acc = 0\n",
    "                \n",
    "                # Validate the model\n",
    "                for data, target in ds_test_ldr:\n",
    "                    x, y = Variable(data), Variable(target)\n",
    "                    \n",
    "                    optimizer.zero_grad()\n",
    "                    \n",
    "                    r = model(x)\n",
    "                    _, preds = torch.max(r.data, 1)\n",
    "#                     l.info(\"Predictions: %s\", str(preds))\n",
    "                    \n",
    "                    loss = loss_function(r, y)\n",
    "#                     l.info(\"Loss: %s\", str(loss))\n",
    "                    \n",
    "                    v_loss += loss.data[0]\n",
    "                    v_acc += torch.sum(preds == y.data)\n",
    "                \n",
    "                epoch_loss = v_loss / len(ds_test)\n",
    "                epoch_acc = v_acc / len(ds_test)\n",
    "                \n",
    "                l.info(\"Epoch %d, loss %f, acc %f\", e, epoch_loss, epoch_acc)\n",
    "                \n",
    "                if epoch_acc > best_acc:\n",
    "                    best_acc = epoch_acc\n",
    "                    best_model = copy.deepcopy(model)\n",
    "    l.info(\"Complete. Best acc %f\", best_acc)\n",
    "    return best_model"
   ]
  },
  {
   "cell_type": "code",
   "execution_count": 10,
   "metadata": {
    "collapsed": true
   },
   "outputs": [],
   "source": [
    "model_conv = torchvision.models.resnet18(pretrained=True)\n",
    "for param in model_conv.parameters():\n",
    "    param.requires_grad = False"
   ]
  },
  {
   "cell_type": "code",
   "execution_count": 11,
   "metadata": {
    "collapsed": true
   },
   "outputs": [],
   "source": [
    "num_ftrs = model_conv.fc.in_features\n",
    "model_conv.fc = nn.Linear(num_ftrs, 3)"
   ]
  },
  {
   "cell_type": "code",
   "execution_count": 12,
   "metadata": {
    "collapsed": true
   },
   "outputs": [],
   "source": [
    "loss_function = nn.CrossEntropyLoss()"
   ]
  },
  {
   "cell_type": "code",
   "execution_count": 13,
   "metadata": {
    "collapsed": true
   },
   "outputs": [],
   "source": [
    "optimizer = optim.SGD(model_conv.fc.parameters(), lr=0.001, momentum=0.9)"
   ]
  },
  {
   "cell_type": "code",
   "execution_count": 14,
   "metadata": {
    "scrolled": true
   },
   "outputs": [
    {
     "name": "stderr",
     "output_type": "stream",
     "text": [
      "[2017-09-02 19:21:05,914][INFO]: EPOCH: 0/9\n",
      "[2017-09-02 19:21:07,952][INFO]: Epoch 0, loss 1.144204, acc 0.444444\n",
      "[2017-09-02 19:21:07,991][INFO]: EPOCH: 1/9\n",
      "[2017-09-02 19:21:09,967][INFO]: Epoch 1, loss 1.267844, acc 0.333333\n",
      "[2017-09-02 19:21:09,967][INFO]: EPOCH: 2/9\n",
      "[2017-09-02 19:21:11,823][INFO]: Epoch 2, loss 1.182043, acc 0.333333\n",
      "[2017-09-02 19:21:11,824][INFO]: EPOCH: 3/9\n",
      "[2017-09-02 19:21:13,689][INFO]: Epoch 3, loss 1.029998, acc 0.333333\n",
      "[2017-09-02 19:21:13,690][INFO]: EPOCH: 4/9\n",
      "[2017-09-02 19:21:15,563][INFO]: Epoch 4, loss 1.022408, acc 0.444444\n",
      "[2017-09-02 19:21:15,564][INFO]: EPOCH: 5/9\n",
      "[2017-09-02 19:21:17,554][INFO]: Epoch 5, loss 1.145452, acc 0.333333\n",
      "[2017-09-02 19:21:17,555][INFO]: EPOCH: 6/9\n",
      "[2017-09-02 19:21:19,423][INFO]: Epoch 6, loss 0.997432, acc 0.444444\n",
      "[2017-09-02 19:21:19,424][INFO]: EPOCH: 7/9\n",
      "[2017-09-02 19:21:21,248][INFO]: Epoch 7, loss 1.051749, acc 0.444444\n",
      "[2017-09-02 19:21:21,248][INFO]: EPOCH: 8/9\n",
      "[2017-09-02 19:21:23,090][INFO]: Epoch 8, loss 0.936736, acc 0.555556\n",
      "[2017-09-02 19:21:23,131][INFO]: EPOCH: 9/9\n",
      "[2017-09-02 19:21:25,011][INFO]: Epoch 9, loss 0.951779, acc 0.333333\n",
      "[2017-09-02 19:21:25,012][INFO]: Complete. Best acc 0.555556\n"
     ]
    }
   ],
   "source": [
    "model_conv = train(\n",
    "    model=model_conv, \n",
    "    loss_function=loss_function, \n",
    "    optimizer=optimizer, \n",
    "    num_epochs=10)"
   ]
  },
  {
   "cell_type": "code",
   "execution_count": 15,
   "metadata": {
    "collapsed": true
   },
   "outputs": [],
   "source": [
    "def prepare_image(image):\n",
    "    \"\"\"\n",
    "    Prepare image to be fed into the model.\n",
    "    \n",
    "    \n",
    "    \"\"\"\n",
    "    \n",
    "    # These preprocessing steps are taken from PyTorch's ImageNet example\n",
    "    preprocess = transforms.Compose([\n",
    "        transforms.Scale(256),\n",
    "        transforms.CenterCrop(224),\n",
    "        transforms.ToTensor(),\n",
    "        transforms.Normalize(\n",
    "           mean=[0.485, 0.456, 0.406],\n",
    "           std=[0.229, 0.224, 0.225]\n",
    "        ),\n",
    "    ])\n",
    "    return preprocess(image).unsqueeze_(0)"
   ]
  },
  {
   "cell_type": "code",
   "execution_count": 16,
   "metadata": {
    "collapsed": true
   },
   "outputs": [],
   "source": [
    "from PIL import Image"
   ]
  },
  {
   "cell_type": "code",
   "execution_count": 17,
   "metadata": {},
   "outputs": [
    {
     "data": {
      "text/plain": [
       "\n",
       "( 0 , 0 ,.,.) = \n",
       "  2.2489  2.2489  2.2489  ...   2.2489  2.2489  2.2489\n",
       "  2.2489  2.2489  2.2489  ...   2.2489  2.2489  2.2489\n",
       "  2.2489  2.2489  2.2489  ...   2.2489  2.2489  2.2489\n",
       "           ...             ⋱             ...          \n",
       "  2.2489  2.2489  2.2489  ...   2.2489  2.2489  2.2489\n",
       "  2.2489  2.2489  2.2489  ...   2.2489  2.2489  2.2489\n",
       "  2.2489  2.2489  2.2489  ...   2.2489  2.2489  2.2489\n",
       "\n",
       "( 0 , 1 ,.,.) = \n",
       "  2.4286  2.4286  2.4286  ...   2.4286  2.4286  2.4286\n",
       "  2.4286  2.4286  2.4286  ...   2.4286  2.4286  2.4286\n",
       "  2.4286  2.4286  2.4286  ...   2.4286  2.4286  2.4286\n",
       "           ...             ⋱             ...          \n",
       "  2.4286  2.4286  2.4286  ...   2.4286  2.4286  2.4286\n",
       "  2.4286  2.4286  2.4286  ...   2.4286  2.4286  2.4286\n",
       "  2.4286  2.4286  2.4286  ...   2.4286  2.4286  2.4286\n",
       "\n",
       "( 0 , 2 ,.,.) = \n",
       "  2.6400  2.6400  2.6400  ...   2.6400  2.6400  2.6400\n",
       "  2.6400  2.6400  2.6400  ...   2.6400  2.6400  2.6400\n",
       "  2.6400  2.6400  2.6400  ...   2.6400  2.6400  2.6400\n",
       "           ...             ⋱             ...          \n",
       "  2.6400  2.6400  2.6400  ...   2.6400  2.6400  2.6400\n",
       "  2.6400  2.6400  2.6400  ...   2.6400  2.6400  2.6400\n",
       "  2.6400  2.6400  2.6400  ...   2.6400  2.6400  2.6400\n",
       "[torch.FloatTensor of size 1x3x224x224]"
      ]
     },
     "execution_count": 17,
     "metadata": {},
     "output_type": "execute_result"
    }
   ],
   "source": [
    "prepare_image(Image.open(\"durian2.jpg\"))"
   ]
  },
  {
   "cell_type": "code",
   "execution_count": 18,
   "metadata": {},
   "outputs": [
    {
     "data": {
      "text/plain": [
       "Variable containing:\n",
       "( 0 , 0 ,.,.) = \n",
       "  2.2489  2.2489  2.2489  ...   2.2489  2.2489  2.2489\n",
       "  2.2489  2.2489  2.2489  ...   2.2489  2.2489  2.2489\n",
       "  2.2489  2.2489  2.2489  ...   2.2489  2.2489  2.2489\n",
       "           ...             ⋱             ...          \n",
       "  2.2489  2.2489  2.2489  ...   2.2489  2.2489  2.2489\n",
       "  2.2489  2.2489  2.2489  ...   2.2489  2.2489  2.2489\n",
       "  2.2489  2.2489  2.2489  ...   2.2489  2.2489  2.2489\n",
       "\n",
       "( 0 , 1 ,.,.) = \n",
       "  2.4286  2.4286  2.4286  ...   2.4286  2.4286  2.4286\n",
       "  2.4286  2.4286  2.4286  ...   2.4286  2.4286  2.4286\n",
       "  2.4286  2.4286  2.4286  ...   2.4286  2.4286  2.4286\n",
       "           ...             ⋱             ...          \n",
       "  2.4286  2.4286  2.4286  ...   2.4286  2.4286  2.4286\n",
       "  2.4286  2.4286  2.4286  ...   2.4286  2.4286  2.4286\n",
       "  2.4286  2.4286  2.4286  ...   2.4286  2.4286  2.4286\n",
       "\n",
       "( 0 , 2 ,.,.) = \n",
       "  2.6400  2.6400  2.6400  ...   2.6400  2.6400  2.6400\n",
       "  2.6400  2.6400  2.6400  ...   2.6400  2.6400  2.6400\n",
       "  2.6400  2.6400  2.6400  ...   2.6400  2.6400  2.6400\n",
       "           ...             ⋱             ...          \n",
       "  2.6400  2.6400  2.6400  ...   2.6400  2.6400  2.6400\n",
       "  2.6400  2.6400  2.6400  ...   2.6400  2.6400  2.6400\n",
       "  2.6400  2.6400  2.6400  ...   2.6400  2.6400  2.6400\n",
       "[torch.FloatTensor of size 1x3x224x224]"
      ]
     },
     "execution_count": 18,
     "metadata": {},
     "output_type": "execute_result"
    }
   ],
   "source": [
    "Variable(prepare_image(Image.open(\"durian2.jpg\")))"
   ]
  },
  {
   "cell_type": "code",
   "execution_count": 19,
   "metadata": {},
   "outputs": [
    {
     "data": {
      "text/plain": [
       "Variable containing:\n",
       " 0.3694  0.5323  0.2719\n",
       "[torch.FloatTensor of size 1x3]"
      ]
     },
     "execution_count": 19,
     "metadata": {},
     "output_type": "execute_result"
    }
   ],
   "source": [
    "model_conv(Out[18])"
   ]
  },
  {
   "cell_type": "code",
   "execution_count": null,
   "metadata": {
    "collapsed": true
   },
   "outputs": [],
   "source": []
  }
 ],
 "metadata": {
  "kernelspec": {
   "display_name": "Python 3",
   "language": "python",
   "name": "python3"
  },
  "language_info": {
   "codemirror_mode": {
    "name": "ipython",
    "version": 3
   },
   "file_extension": ".py",
   "mimetype": "text/x-python",
   "name": "python",
   "nbconvert_exporter": "python",
   "pygments_lexer": "ipython3",
   "version": "3.6.1"
  }
 },
 "nbformat": 4,
 "nbformat_minor": 2
}
